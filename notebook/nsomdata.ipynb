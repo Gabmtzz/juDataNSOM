{
 "cells": [
  {
   "cell_type": "code",
   "execution_count": 2,
   "metadata": {},
   "outputs": [
    {
     "name": "stderr",
     "output_type": "stream",
     "text": [
      "\u001b[32m\u001b[1m  Activating\u001b[22m\u001b[39m project at `~/Documents/repos/juDataNSOM`\n"
     ]
    }
   ],
   "source": [
    "using Pkg\n",
    "Pkg.activate(\"..\")"
   ]
  },
  {
   "cell_type": "code",
   "execution_count": 3,
   "metadata": {},
   "outputs": [],
   "source": [
    "using HDF5"
   ]
  },
  {
   "cell_type": "code",
   "execution_count": 59,
   "metadata": {},
   "outputs": [
    {
     "data": {
      "text/plain": [
       "\"med_10_12\""
      ]
     },
     "execution_count": 59,
     "metadata": {},
     "output_type": "execute_result"
    }
   ],
   "source": [
    "mo,dy = 10,12\n",
    "direction =\"/home/martinez/Documents/dataNSOM\"\n",
    "folder = \"med_\"*string(mo,pad=2)*\"_\"*string(dy,pad=2)\n",
    "elementDir = cd(readdir,direction)\n",
    "folder"
   ]
  },
  {
   "cell_type": "code",
   "execution_count": 60,
   "metadata": {},
   "outputs": [],
   "source": [
    "indexFol = findall(elementDir .== folder)\n",
    "try\n",
    "    indexFol = indexFol[1]\n",
    "    direction = direction*\"/\"*folder\n",
    "    catch \n",
    "        error(\"The folder does not exist\")\n",
    "end\n",
    "cd()"
   ]
  },
  {
   "cell_type": "code",
   "execution_count": 68,
   "metadata": {},
   "outputs": [
    {
     "data": {
      "text/plain": [
       "5-element Vector{String}:\n",
       " \"test_1210_01.h5\"\n",
       " \"test_1210_02.h5\"\n",
       " \"test_1210_03.h5\"\n",
       " \"test_1210_04.h5\"\n",
       " \"test_1210_05.h5\""
      ]
     },
     "execution_count": 68,
     "metadata": {},
     "output_type": "execute_result"
    }
   ],
   "source": [
    "if ~isempty(cd(readdir,direction))\n",
    "    FileN = cd(readdir,direction);\n",
    "else\n",
    "        error(\"The folder is empty\")\n",
    "    end"
   ]
  },
  {
   "cell_type": "code",
   "execution_count": 82,
   "metadata": {},
   "outputs": [],
   "source": [
    "cd(direction)\n",
    "pwd()\n",
    "fname = direction*\"/\"*FileN[1]\n",
    "fNs = h5open(fname,\"r\");"
   ]
  },
  {
   "cell_type": "code",
   "execution_count": 106,
   "metadata": {},
   "outputs": [],
   "source": [
    "groupF = keys(fNs)\n",
    "dataSm = keys(fNs[groupF[1]])\n",
    "datMeas = read(fNs[groupF[1]*\"/\"*dataSm[1]]);"
   ]
  },
  {
   "cell_type": "code",
   "execution_count": 107,
   "metadata": {},
   "outputs": [
    {
     "data": {
      "text/plain": [
       "2-element Vector{String}:\n",
       " \"Amplitud\"\n",
       " \"Fase\""
      ]
     },
     "execution_count": 107,
     "metadata": {},
     "output_type": "execute_result"
    }
   ],
   "source": [
    "dataEx = keys(fNs[groupF[2]])\n"
   ]
  },
  {
   "cell_type": "code",
   "execution_count": 109,
   "metadata": {},
   "outputs": [
    {
     "data": {
      "text/plain": [
       "Array{Float64, 3}"
      ]
     },
     "execution_count": 109,
     "metadata": {},
     "output_type": "execute_result"
    }
   ],
   "source": [
    "typeof(datMeas)"
   ]
  },
  {
   "cell_type": "code",
   "execution_count": null,
   "metadata": {},
   "outputs": [],
   "source": []
  }
 ],
 "metadata": {
  "kernelspec": {
   "display_name": "Julia 1.6.6",
   "language": "julia",
   "name": "julia-1.6"
  },
  "language_info": {
   "file_extension": ".jl",
   "mimetype": "application/julia",
   "name": "julia",
   "version": "1.8.2"
  }
 },
 "nbformat": 4,
 "nbformat_minor": 2
}
